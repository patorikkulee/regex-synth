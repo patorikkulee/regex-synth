{
 "cells": [
  {
   "cell_type": "code",
   "execution_count": 1,
   "metadata": {},
   "outputs": [],
   "source": [
    "import json\n",
    "import matplotlib.pyplot as plt"
   ]
  },
  {
   "cell_type": "code",
   "execution_count": 2,
   "metadata": {},
   "outputs": [],
   "source": [
    "# open file and read data\n",
    "f = open(\"flamegraph_underapprox.json\")\n",
    "data = json.load(f)[0]\n",
    "synth = data['spans'][0]"
   ]
  },
  {
   "cell_type": "code",
   "execution_count": 3,
   "metadata": {},
   "outputs": [],
   "source": [
    "# create dict to store time stats\n",
    "funcs = ['find_parentheses', 'is_inside_or',\n",
    "         'match_all', 'match_none', 'extend', 'is_dead']\n",
    "stats = {k: 0 for k in funcs}\n",
    "stats['synth'] = synth['delta']"
   ]
  },
  {
   "cell_type": "code",
   "execution_count": 4,
   "metadata": {},
   "outputs": [
    {
     "name": "stdout",
     "output_type": "stream",
     "text": [
      "{'find_parentheses': 1764587432, 'is_inside_or': 2476660027, 'match_all': 211534088, 'match_none': 26771987686, 'extend': 4368377301, 'is_dead': 26910249471, 'synth': 35969449416}\n"
     ]
    }
   ],
   "source": [
    "# a summation of time of all functions called\n",
    "def recursive_add_time(function):\n",
    "    # dict_keys(['name', 'start_ns', 'end_ns', 'delta', 'depth', 'children', 'notes'])\n",
    "    if function['children']:\n",
    "        for subfunctions in function['children']:\n",
    "            func_name = subfunctions['name']\n",
    "            func_time = subfunctions['delta']\n",
    "            stats[func_name] += func_time\n",
    "            recursive_add_time(subfunctions)\n",
    "\n",
    "\n",
    "recursive_add_time(synth)\n",
    "print(stats)"
   ]
  },
  {
   "cell_type": "code",
   "execution_count": 5,
   "metadata": {},
   "outputs": [
    {
     "data": {
      "image/png": "[encoded data removed]",
      "text/plain": [
       "<Figure size 432x288 with 1 Axes>"
      ]
     },
     "metadata": {
      "needs_background": "light"
     },
     "output_type": "display_data"
    }
   ],
   "source": [
    "# draw plot\n",
    "fig, ax = plt.subplots()\n",
    "ax.bar(stats.keys(), stats.values())\n",
    "ax.set_ylabel('time (ns)')\n",
    "ax.set_title('time cost')\n",
    "\n",
    "plt.show()"
   ]
  },
  {
   "cell_type": "code",
   "execution_count": 6,
   "metadata": {},
   "outputs": [
    {
     "data": {
      "text/plain": [
       "{'find_parentheses': 0.05,\n",
       " 'is_inside_or': 0.07,\n",
       " 'match_all': 0.01,\n",
       " 'match_none': 0.74,\n",
       " 'extend': 0.12,\n",
       " 'is_dead': 0.75,\n",
       " 'synth': 1.0}"
      ]
     },
     "execution_count": 6,
     "metadata": {},
     "output_type": "execute_result"
    }
   ],
   "source": [
    "ratio_of_each = {k:round(v/stats['synth'], 2) for (k,v) in stats.items()}\n",
    "\"\"\"\n",
    "extend + matchall + matchnone = 0.97 synth\n",
    "\"\"\"\n",
    "ratio_of_each"
   ]
  },
  {
   "cell_type": "code",
   "execution_count": 7,
   "metadata": {},
   "outputs": [
    {
     "name": "stdout",
     "output_type": "stream",
     "text": [
      "find_parentheses/is_inside_or =  0.71\n",
      "is_inside_or/extend =  0.57\n"
     ]
    }
   ],
   "source": [
    "print(\"find_parentheses/is_inside_or = \", round(stats['find_parentheses']/stats['is_inside_or'], 2))\n",
    "print(\"is_inside_or/extend = \", round(stats['is_inside_or']/stats['extend'], 2))\n"
   ]
  },
  {
   "cell_type": "code",
   "execution_count": null,
   "metadata": {},
   "outputs": [],
   "source": []
  }
 ],
 "metadata": {
  "kernelspec": {
   "display_name": "tf",
   "language": "python",
   "name": "python3"
  },
  "language_info": {
   "codemirror_mode": {
    "name": "ipython",
    "version": 3
   },
   "file_extension": ".py",
   "mimetype": "text/x-python",
   "name": "python",
   "nbconvert_exporter": "python",
   "pygments_lexer": "ipython3",
   "version": "3.8.13"
  },
  "orig_nbformat": 4
 },
 "nbformat": 4,
 "nbformat_minor": 2
}
