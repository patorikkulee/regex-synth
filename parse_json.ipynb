{
 "cells": [
  {
   "cell_type": "markdown",
   "metadata": {},
   "source": [
    "# Regexsynth code efficiency & finding bottleneck\n",
    "---"
   ]
  },
  {
   "cell_type": "code",
   "execution_count": 1,
   "metadata": {},
   "outputs": [],
   "source": [
    "import json\n",
    "import matplotlib.pyplot as plt"
   ]
  },
  {
   "cell_type": "code",
   "execution_count": 2,
   "metadata": {},
   "outputs": [],
   "source": [
    "# open file and read data\n",
    "f = open(\"flamegraph.json\")\n",
    "data = json.load(f)[0]\n",
    "synth = data['spans'][0]"
   ]
  },
  {
   "cell_type": "markdown",
   "metadata": {},
   "source": [
    "## Parsing data"
   ]
  },
  {
   "cell_type": "code",
   "execution_count": 3,
   "metadata": {},
   "outputs": [],
   "source": [
    "# create dict to store time stats\n",
    "funcs = ['update_parentheses', 'is_inside_or',\n",
    "         'match_all', 'match_none', 'extend', 'is_dead', \n",
    "         'is_redundant', 'split', 'unroll', 'find_parentheses']\n",
    "times_called = {k: 0 for k in funcs}\n",
    "stats = {k: 0 for k in funcs}\n",
    "stats['synth'] = synth['delta']"
   ]
  },
  {
   "cell_type": "code",
   "execution_count": 4,
   "metadata": {},
   "outputs": [
    {
     "name": "stdout",
     "output_type": "stream",
     "text": [
      "{'update_parentheses': 4224426, 'is_inside_or': 6492742, 'match_all': 1786280064, 'match_none': 7893420744, 'extend': 46637233, 'is_dead': 2675822233, 'is_redundant': 7084289887, 'split': 24598693, 'unroll': 25000758, 'find_parentheses': 18648721, 'synth': 9842655709}\n"
     ]
    }
   ],
   "source": [
    "# a summation of time of all functions called\n",
    "def recursive_add_time(function):\n",
    "    # dict_keys(['name', 'start_ns', 'end_ns', 'delta', 'depth', 'children', 'notes'])\n",
    "    if function['children']:\n",
    "        for subfunctions in function['children']:\n",
    "            func_name = subfunctions['name']\n",
    "            func_time = subfunctions['delta']\n",
    "            stats[func_name] += func_time\n",
    "            times_called[func_name] += 1 \n",
    "            recursive_add_time(subfunctions)\n",
    "\n",
    "\n",
    "recursive_add_time(synth)\n",
    "print(stats)"
   ]
  },
  {
   "cell_type": "markdown",
   "metadata": {},
   "source": [
    "## Visualize"
   ]
  },
  {
   "cell_type": "code",
   "execution_count": 5,
   "metadata": {},
   "outputs": [
    {
     "data": {
      "image/png": "[encoded data removed]",
      "text/plain": [
       "<Figure size 432x288 with 1 Axes>"
      ]
     },
     "metadata": {
      "needs_background": "light"
     },
     "output_type": "display_data"
    }
   ],
   "source": [
    "# draw plot\n",
    "fig, ax = plt.subplots()\n",
    "ax.bar(stats.keys(), stats.values())\n",
    "ax.set_ylabel('time (ns)')\n",
    "ax.set_title('time cost')\n",
    "\n",
    "plt.setp(ax.get_xticklabels(), rotation=30, horizontalalignment='right')\n",
    "plt.show()\n",
    "# fig.tight_layout()"
   ]
  },
  {
   "cell_type": "code",
   "execution_count": 6,
   "metadata": {},
   "outputs": [
    {
     "data": {
      "text/plain": [
       "{'update_parentheses': 0.0,\n",
       " 'is_inside_or': 0.0,\n",
       " 'match_all': 0.18,\n",
       " 'match_none': 0.8,\n",
       " 'extend': 0.0,\n",
       " 'is_dead': 0.27,\n",
       " 'is_redundant': 0.72,\n",
       " 'split': 0.0,\n",
       " 'unroll': 0.0,\n",
       " 'find_parentheses': 0.0,\n",
       " 'synth': 1.0}"
      ]
     },
     "execution_count": 6,
     "metadata": {},
     "output_type": "execute_result"
    }
   ],
   "source": [
    "ratio_of_each = {k:round(v/stats['synth'], 2) for (k,v) in stats.items()}\n",
    "\"\"\"\n",
    "extend + matchall + matchnone = 0.97 synth\n",
    "\"\"\"\n",
    "ratio_of_each\n",
    "\"\"\"\n",
    "{'update_parentheses': 0.08,\n",
    " 'is_inside_or': 0.1,\n",
    " 'match_all': 0.04,\n",
    " 'match_none': 0.0,\n",
    " 'extend': 0.91,\n",
    " 'is_duplicate': 0.18,\n",
    " 'insert_table': 0.11,\n",
    " 'push': 0.03,\n",
    " 'find_occurrences': 0.02,\n",
    " 'init_state': 0.05,\n",
    " 'synth': 1.0}\n",
    "\"\"\"\n",
    "ratio_of_each\n"
   ]
  },
  {
   "cell_type": "code",
   "execution_count": 7,
   "metadata": {},
   "outputs": [
    {
     "data": {
      "text/plain": [
       "{'update_parentheses': 15510,\n",
       " 'is_inside_or': 15510,\n",
       " 'match_all': 3577,\n",
       " 'match_none': 16309,\n",
       " 'extend': 3102,\n",
       " 'is_dead': 3414,\n",
       " 'is_redundant': 3224,\n",
       " 'split': 3224,\n",
       " 'unroll': 3224,\n",
       " 'find_parentheses': 6448}"
      ]
     },
     "execution_count": 7,
     "metadata": {},
     "output_type": "execute_result"
    }
   ],
   "source": [
    "\"\"\"\n",
    "{'update_parentheses': 2231460,\n",
    " 'is_inside_or': 2231460,\n",
    " 'match_all': 1128,\n",
    " 'match_none': 147,\n",
    " 'extend': 116782,\n",
    " 'is_duplicate': 2231460,\n",
    " 'insert_table': 884406,\n",
    " 'push': 884406,\n",
    " 'find_occurrences': 116782,\n",
    " 'init_state': 884406}\n",
    "\"\"\"\n",
    "times_called"
   ]
  },
  {
   "cell_type": "code",
   "execution_count": 8,
   "metadata": {},
   "outputs": [
    {
     "data": {
      "text/plain": [
       "{'update_parentheses': 272.3678916827853,\n",
       " 'is_inside_or': 418.61650548033526,\n",
       " 'match_all': 499379.38607771875,\n",
       " 'match_none': 483991.70666503155,\n",
       " 'extend': 15034.568987749839,\n",
       " 'is_dead': 783779.2129466902,\n",
       " 'is_redundant': 2197360.3867866006,\n",
       " 'split': 7629.867555831265,\n",
       " 'unroll': 7754.577543424318,\n",
       " 'find_parentheses': 2892.171370967742}"
      ]
     },
     "execution_count": 8,
     "metadata": {},
     "output_type": "execute_result"
    }
   ],
   "source": [
    "\"\"\"\n",
    "{'update_parentheses': 237.05256155162988,\n",
    " 'is_inside_or': 296.4919505615158,\n",
    " 'match_all': 206824.1329787234,\n",
    " 'match_none': 105825.6530612245,\n",
    " 'extend': 49671.88202805227,\n",
    " 'is_duplicate': 505.50786480600146,\n",
    " 'insert_table': 771.1694097507253,\n",
    " 'push': 200.43621255396278,\n",
    " 'find_occurrences': 846.6527547053485,\n",
    " 'init_state': 335.48012677435474}\n",
    "\"\"\"\n",
    "# del times_called['find_occurrences']\n",
    "avg_execution_time_per_call_ns = {k: stats[k]/v for k, v in times_called.items()}\n",
    "avg_execution_time_per_call_ns\n"
   ]
  },
  {
   "cell_type": "code",
   "execution_count": 21,
   "metadata": {},
   "outputs": [
    {
     "data": {
      "text/plain": [
       "{'update_parentheses': 14252853,\n",
       " 'is_inside_or': 17565009,\n",
       " 'match_all': 217798756,\n",
       " 'match_none': 15119751,\n",
       " 'extend': 192483182,\n",
       " 'is_duplicate': 24016151,\n",
       " 'insert_table': 40735914,\n",
       " 'push': 10858652,\n",
       " 'find_occurrences': 0,\n",
       " 'init_state': 18832416,\n",
       " 'synth': 444007167}"
      ]
     },
     "execution_count": 21,
     "metadata": {},
     "output_type": "execute_result"
    }
   ],
   "source": [
    "stats"
   ]
  },
  {
   "cell_type": "code",
   "execution_count": 7,
   "metadata": {},
   "outputs": [
    {
     "name": "stdout",
     "output_type": "stream",
     "text": [
      "0.5989879398197877\n"
     ]
    }
   ],
   "source": [
    "print((stats['is_inside_or']+stats['update_parentheses']+stats['is_duplicate']+stats['insert_table']+stats['push']+stats['init_state'])/stats['extend'])\n",
    "# print(stats['extend'])"
   ]
  },
  {
   "cell_type": "code",
   "execution_count": null,
   "metadata": {},
   "outputs": [],
   "source": [
    "print(\"find_parentheses/is_inside_or = \", round(stats['find_parentheses']/stats['is_inside_or'], 2))\n",
    "print(\"is_inside_or/extend = \", round(stats['is_inside_or']/stats['extend'], 2))\n"
   ]
  },
  {
   "cell_type": "code",
   "execution_count": 38,
   "metadata": {},
   "outputs": [
    {
     "data": {
      "text/plain": [
       "1016804"
      ]
     },
     "execution_count": 38,
     "metadata": {},
     "output_type": "execute_result"
    }
   ],
   "source": [
    "stats['find_occurrences']"
   ]
  },
  {
   "cell_type": "markdown",
   "metadata": {},
   "source": [
    "## Time efficiency of state processing\n",
    "\n",
    "### todo:\n",
    "* 確認 pruning 正確性 from that case\n",
    "* prune太少是不是有可以砍的case沒有考慮\n",
    "* 開over approx再測一次\n",
    "* 統計is_dead/is_redundant各砍了多少\n",
    "* -----\n",
    "* split/unroll efficiency\n",
    "* is_redundant正確性 (超過九還沒找到答案8)\n",
    "* find_parentheses/unroll時間佔比\n",
    "\n",
    "### 可能原因\n",
    "* 可以長出正確答案的state被prune掉了 應該是pruning的機制裡面出了些問題\n",
    "* 需要再確定是dead還是redundant\n",
    "* match_none call一次的時間大約是0.0004秒 但呼叫一萬多次所以加起來接近八秒"
   ]
  },
  {
   "cell_type": "code",
   "execution_count": 1,
   "metadata": {},
   "outputs": [],
   "source": [
    "import pandas as pd"
   ]
  },
  {
   "cell_type": "code",
   "execution_count": 2,
   "metadata": {},
   "outputs": [
    {
     "data": {
      "text/html": [
       "<div>\n",
       "<style scoped>\n",
       "    .dataframe tbody tr th:only-of-type {\n",
       "        vertical-align: middle;\n",
       "    }\n",
       "\n",
       "    .dataframe tbody tr th {\n",
       "        vertical-align: top;\n",
       "    }\n",
       "\n",
       "    .dataframe thead th {\n",
       "        text-align: right;\n",
       "    }\n",
       "</style>\n",
       "<table border=\"1\" class=\"dataframe\">\n",
       "  <thead>\n",
       "    <tr style=\"text-align: right;\">\n",
       "      <th></th>\n",
       "      <th>sec</th>\n",
       "      <th>state_num</th>\n",
       "    </tr>\n",
       "    <tr>\n",
       "      <th>cost</th>\n",
       "      <th></th>\n",
       "      <th></th>\n",
       "    </tr>\n",
       "  </thead>\n",
       "  <tbody>\n",
       "    <tr>\n",
       "      <th>1</th>\n",
       "      <td>0.000640</td>\n",
       "      <td>2</td>\n",
       "    </tr>\n",
       "    <tr>\n",
       "      <th>2</th>\n",
       "      <td>0.001508</td>\n",
       "      <td>7</td>\n",
       "    </tr>\n",
       "    <tr>\n",
       "      <th>3</th>\n",
       "      <td>0.002952</td>\n",
       "      <td>22</td>\n",
       "    </tr>\n",
       "    <tr>\n",
       "      <th>4</th>\n",
       "      <td>0.006615</td>\n",
       "      <td>83</td>\n",
       "    </tr>\n",
       "    <tr>\n",
       "      <th>5</th>\n",
       "      <td>0.015361</td>\n",
       "      <td>322</td>\n",
       "    </tr>\n",
       "  </tbody>\n",
       "</table>\n",
       "</div>"
      ],
      "text/plain": [
       "           sec  state_num\n",
       "cost                     \n",
       "1     0.000640          2\n",
       "2     0.001508          7\n",
       "3     0.002952         22\n",
       "4     0.006615         83\n",
       "5     0.015361        322"
      ]
     },
     "execution_count": 2,
     "metadata": {},
     "output_type": "execute_result"
    }
   ],
   "source": [
    "df = pd.read_csv('stats.csv')\n",
    "df = df.set_index('cost')\n",
    "df.head()"
   ]
  },
  {
   "cell_type": "code",
   "execution_count": 3,
   "metadata": {},
   "outputs": [
    {
     "data": {
      "text/html": [
       "<div>\n",
       "<style scoped>\n",
       "    .dataframe tbody tr th:only-of-type {\n",
       "        vertical-align: middle;\n",
       "    }\n",
       "\n",
       "    .dataframe tbody tr th {\n",
       "        vertical-align: top;\n",
       "    }\n",
       "\n",
       "    .dataframe thead th {\n",
       "        text-align: right;\n",
       "    }\n",
       "</style>\n",
       "<table border=\"1\" class=\"dataframe\">\n",
       "  <thead>\n",
       "    <tr style=\"text-align: right;\">\n",
       "      <th></th>\n",
       "      <th>sec_remove</th>\n",
       "      <th>state_num</th>\n",
       "    </tr>\n",
       "    <tr>\n",
       "      <th>cost</th>\n",
       "      <th></th>\n",
       "      <th></th>\n",
       "    </tr>\n",
       "  </thead>\n",
       "  <tbody>\n",
       "    <tr>\n",
       "      <th>1</th>\n",
       "      <td>0.000593</td>\n",
       "      <td>2</td>\n",
       "    </tr>\n",
       "    <tr>\n",
       "      <th>2</th>\n",
       "      <td>0.001432</td>\n",
       "      <td>7</td>\n",
       "    </tr>\n",
       "    <tr>\n",
       "      <th>3</th>\n",
       "      <td>0.002810</td>\n",
       "      <td>22</td>\n",
       "    </tr>\n",
       "    <tr>\n",
       "      <th>4</th>\n",
       "      <td>0.007370</td>\n",
       "      <td>83</td>\n",
       "    </tr>\n",
       "    <tr>\n",
       "      <th>5</th>\n",
       "      <td>0.016592</td>\n",
       "      <td>322</td>\n",
       "    </tr>\n",
       "  </tbody>\n",
       "</table>\n",
       "</div>"
      ],
      "text/plain": [
       "      sec_remove  state_num\n",
       "cost                       \n",
       "1       0.000593          2\n",
       "2       0.001432          7\n",
       "3       0.002810         22\n",
       "4       0.007370         83\n",
       "5       0.016592        322"
      ]
     },
     "execution_count": 3,
     "metadata": {},
     "output_type": "execute_result"
    }
   ],
   "source": [
    "df2 = pd.read_csv('stats_remove.csv')\n",
    "df2 = df2.set_index('cost')\n",
    "df2 = df2.rename(columns={'sec': 'sec_remove'})\n",
    "df2.head()"
   ]
  },
  {
   "cell_type": "code",
   "execution_count": 13,
   "metadata": {},
   "outputs": [
    {
     "data": {
      "text/html": [
       "<div>\n",
       "<style scoped>\n",
       "    .dataframe tbody tr th:only-of-type {\n",
       "        vertical-align: middle;\n",
       "    }\n",
       "\n",
       "    .dataframe tbody tr th {\n",
       "        vertical-align: top;\n",
       "    }\n",
       "\n",
       "    .dataframe thead th {\n",
       "        text-align: right;\n",
       "    }\n",
       "</style>\n",
       "<table border=\"1\" class=\"dataframe\">\n",
       "  <thead>\n",
       "    <tr style=\"text-align: right;\">\n",
       "      <th></th>\n",
       "      <th>sec_prune</th>\n",
       "      <th>state_num_prune</th>\n",
       "    </tr>\n",
       "    <tr>\n",
       "      <th>cost</th>\n",
       "      <th></th>\n",
       "      <th></th>\n",
       "    </tr>\n",
       "  </thead>\n",
       "  <tbody>\n",
       "    <tr>\n",
       "      <th>1</th>\n",
       "      <td>0.002287</td>\n",
       "      <td>2</td>\n",
       "    </tr>\n",
       "    <tr>\n",
       "      <th>2</th>\n",
       "      <td>0.006883</td>\n",
       "      <td>7</td>\n",
       "    </tr>\n",
       "    <tr>\n",
       "      <th>3</th>\n",
       "      <td>0.029204</td>\n",
       "      <td>22</td>\n",
       "    </tr>\n",
       "    <tr>\n",
       "      <th>4</th>\n",
       "      <td>0.137766</td>\n",
       "      <td>71</td>\n",
       "    </tr>\n",
       "    <tr>\n",
       "      <th>5</th>\n",
       "      <td>0.851633</td>\n",
       "      <td>244</td>\n",
       "    </tr>\n",
       "  </tbody>\n",
       "</table>\n",
       "</div>"
      ],
      "text/plain": [
       "      sec_prune  state_num_prune\n",
       "cost                            \n",
       "1      0.002287                2\n",
       "2      0.006883                7\n",
       "3      0.029204               22\n",
       "4      0.137766               71\n",
       "5      0.851633              244"
      ]
     },
     "execution_count": 13,
     "metadata": {},
     "output_type": "execute_result"
    }
   ],
   "source": [
    "df3 = pd.read_csv('stats_pruning.csv')\n",
    "df3 = df3.set_index('cost')\n",
    "df3 = df3.rename(columns={'sec': 'sec_prune', 'state_num': 'state_num_prune'})\n",
    "df3.head()\n"
   ]
  },
  {
   "cell_type": "code",
   "execution_count": 14,
   "metadata": {},
   "outputs": [
    {
     "data": {
      "text/html": [
       "<div>\n",
       "<style scoped>\n",
       "    .dataframe tbody tr th:only-of-type {\n",
       "        vertical-align: middle;\n",
       "    }\n",
       "\n",
       "    .dataframe tbody tr th {\n",
       "        vertical-align: top;\n",
       "    }\n",
       "\n",
       "    .dataframe thead th {\n",
       "        text-align: right;\n",
       "    }\n",
       "</style>\n",
       "<table border=\"1\" class=\"dataframe\">\n",
       "  <thead>\n",
       "    <tr style=\"text-align: right;\">\n",
       "      <th></th>\n",
       "      <th>sec</th>\n",
       "      <th>state_num</th>\n",
       "      <th>sec_remove</th>\n",
       "      <th>sec_prune</th>\n",
       "      <th>state_num_prune</th>\n",
       "    </tr>\n",
       "    <tr>\n",
       "      <th>cost</th>\n",
       "      <th></th>\n",
       "      <th></th>\n",
       "      <th></th>\n",
       "      <th></th>\n",
       "      <th></th>\n",
       "    </tr>\n",
       "  </thead>\n",
       "  <tbody>\n",
       "    <tr>\n",
       "      <th>1</th>\n",
       "      <td>0.000640</td>\n",
       "      <td>2</td>\n",
       "      <td>0.000593</td>\n",
       "      <td>0.002287</td>\n",
       "      <td>2.0</td>\n",
       "    </tr>\n",
       "    <tr>\n",
       "      <th>2</th>\n",
       "      <td>0.001508</td>\n",
       "      <td>7</td>\n",
       "      <td>0.001432</td>\n",
       "      <td>0.006883</td>\n",
       "      <td>7.0</td>\n",
       "    </tr>\n",
       "    <tr>\n",
       "      <th>3</th>\n",
       "      <td>0.002952</td>\n",
       "      <td>22</td>\n",
       "      <td>0.002810</td>\n",
       "      <td>0.029204</td>\n",
       "      <td>22.0</td>\n",
       "    </tr>\n",
       "    <tr>\n",
       "      <th>4</th>\n",
       "      <td>0.006615</td>\n",
       "      <td>83</td>\n",
       "      <td>0.007370</td>\n",
       "      <td>0.137766</td>\n",
       "      <td>71.0</td>\n",
       "    </tr>\n",
       "    <tr>\n",
       "      <th>5</th>\n",
       "      <td>0.015361</td>\n",
       "      <td>322</td>\n",
       "      <td>0.016592</td>\n",
       "      <td>0.851633</td>\n",
       "      <td>244.0</td>\n",
       "    </tr>\n",
       "  </tbody>\n",
       "</table>\n",
       "</div>"
      ],
      "text/plain": [
       "           sec  state_num  sec_remove  sec_prune  state_num_prune\n",
       "cost                                                             \n",
       "1     0.000640          2    0.000593   0.002287              2.0\n",
       "2     0.001508          7    0.001432   0.006883              7.0\n",
       "3     0.002952         22    0.002810   0.029204             22.0\n",
       "4     0.006615         83    0.007370   0.137766             71.0\n",
       "5     0.015361        322    0.016592   0.851633            244.0"
      ]
     },
     "execution_count": 14,
     "metadata": {},
     "output_type": "execute_result"
    }
   ],
   "source": [
    "df['sec_remove'] = df2['sec_remove']\n",
    "df['sec_prune'] = df3['sec_prune']\n",
    "df['state_num_prune'] = df3['state_num_prune']\n",
    "df.head()"
   ]
  },
  {
   "cell_type": "code",
   "execution_count": 15,
   "metadata": {},
   "outputs": [
    {
     "data": {
      "text/plain": [
       "'\\n如果額外把處理過的state清掉，反而造成太大的時間複雜度\\n但在不清掉的情況下空間複雜度也會很高（16g ram會爆）\\n'"
      ]
     },
     "execution_count": 15,
     "metadata": {},
     "output_type": "execute_result"
    },
    {
     "data": {
      "image/png": "[encoded data removed]",
      "text/plain": [
       "<Figure size 432x288 with 1 Axes>"
      ]
     },
     "metadata": {
      "needs_background": "light"
     },
     "output_type": "display_data"
    }
   ],
   "source": [
    "lines = df[['sec', 'sec_remove', 'sec_prune']].plot.line()\n",
    "\"\"\"\n",
    "如果額外把處理過的state清掉，反而造成太大的時間複雜度\n",
    "但在不清掉的情況下空間複雜度也會很高（16g ram會爆）\n",
    "\"\"\""
   ]
  },
  {
   "cell_type": "code",
   "execution_count": 19,
   "metadata": {},
   "outputs": [
    {
     "data": {
      "image/png": "[encoded data removed]",
      "text/plain": [
       "<Figure size 432x288 with 1 Axes>"
      ]
     },
     "metadata": {
      "needs_background": "light"
     },
     "output_type": "display_data"
    }
   ],
   "source": [
    "lines = df.iloc[:8][['state_num', 'state_num_prune']].plot.line()"
   ]
  },
  {
   "cell_type": "code",
   "execution_count": 20,
   "metadata": {},
   "outputs": [
    {
     "data": {
      "image/png": "[encoded data removed]",
      "text/plain": [
       "<Figure size 432x288 with 1 Axes>"
      ]
     },
     "metadata": {
      "needs_background": "light"
     },
     "output_type": "display_data"
    }
   ],
   "source": [
    "lines = df.iloc[:8][['sec', 'sec_prune']].plot.line()"
   ]
  },
  {
   "cell_type": "code",
   "execution_count": 15,
   "metadata": {},
   "outputs": [
    {
     "data": {
      "image/png": "[encoded data removed]",
      "text/plain": [
       "<Figure size 432x288 with 1 Axes>"
      ]
     },
     "metadata": {
      "needs_background": "light"
     },
     "output_type": "display_data"
    }
   ],
   "source": [
    "lines = df[['state_num']].plot.line()"
   ]
  },
  {
   "cell_type": "markdown",
   "metadata": {},
   "source": [
    "### same test case w/ and w/o pruning"
   ]
  },
  {
   "cell_type": "code",
   "execution_count": 21,
   "metadata": {},
   "outputs": [
    {
     "data": {
      "text/html": [
       "<div>\n",
       "<style scoped>\n",
       "    .dataframe tbody tr th:only-of-type {\n",
       "        vertical-align: middle;\n",
       "    }\n",
       "\n",
       "    .dataframe tbody tr th {\n",
       "        vertical-align: top;\n",
       "    }\n",
       "\n",
       "    .dataframe thead th {\n",
       "        text-align: right;\n",
       "    }\n",
       "</style>\n",
       "<table border=\"1\" class=\"dataframe\">\n",
       "  <thead>\n",
       "    <tr style=\"text-align: right;\">\n",
       "      <th></th>\n",
       "      <th>sec_prune</th>\n",
       "      <th>state_num_prune</th>\n",
       "    </tr>\n",
       "    <tr>\n",
       "      <th>cost</th>\n",
       "      <th></th>\n",
       "      <th></th>\n",
       "    </tr>\n",
       "  </thead>\n",
       "  <tbody>\n",
       "    <tr>\n",
       "      <th>1</th>\n",
       "      <td>0.001427</td>\n",
       "      <td>2</td>\n",
       "    </tr>\n",
       "    <tr>\n",
       "      <th>2</th>\n",
       "      <td>0.004187</td>\n",
       "      <td>7</td>\n",
       "    </tr>\n",
       "    <tr>\n",
       "      <th>3</th>\n",
       "      <td>0.019743</td>\n",
       "      <td>22</td>\n",
       "    </tr>\n",
       "    <tr>\n",
       "      <th>4</th>\n",
       "      <td>0.093702</td>\n",
       "      <td>71</td>\n",
       "    </tr>\n",
       "    <tr>\n",
       "      <th>5</th>\n",
       "      <td>0.511800</td>\n",
       "      <td>244</td>\n",
       "    </tr>\n",
       "  </tbody>\n",
       "</table>\n",
       "</div>"
      ],
      "text/plain": [
       "      sec_prune  state_num_prune\n",
       "cost                            \n",
       "1      0.001427                2\n",
       "2      0.004187                7\n",
       "3      0.019743               22\n",
       "4      0.093702               71\n",
       "5      0.511800              244"
      ]
     },
     "execution_count": 21,
     "metadata": {},
     "output_type": "execute_result"
    }
   ],
   "source": [
    "df_p = pd.read_csv('stats_pruning.csv')\n",
    "df_p = df_p.set_index('cost')\n",
    "df_p = df_p.rename(columns={'sec': 'sec_prune', 'state_num': 'state_num_prune'})\n",
    "\n",
    "df_p.head()"
   ]
  },
  {
   "cell_type": "code",
   "execution_count": 22,
   "metadata": {},
   "outputs": [
    {
     "data": {
      "text/html": [
       "<div>\n",
       "<style scoped>\n",
       "    .dataframe tbody tr th:only-of-type {\n",
       "        vertical-align: middle;\n",
       "    }\n",
       "\n",
       "    .dataframe tbody tr th {\n",
       "        vertical-align: top;\n",
       "    }\n",
       "\n",
       "    .dataframe thead th {\n",
       "        text-align: right;\n",
       "    }\n",
       "</style>\n",
       "<table border=\"1\" class=\"dataframe\">\n",
       "  <thead>\n",
       "    <tr style=\"text-align: right;\">\n",
       "      <th></th>\n",
       "      <th>sec</th>\n",
       "      <th>state_num</th>\n",
       "    </tr>\n",
       "    <tr>\n",
       "      <th>cost</th>\n",
       "      <th></th>\n",
       "      <th></th>\n",
       "    </tr>\n",
       "  </thead>\n",
       "  <tbody>\n",
       "    <tr>\n",
       "      <th>1</th>\n",
       "      <td>0.001327</td>\n",
       "      <td>2</td>\n",
       "    </tr>\n",
       "    <tr>\n",
       "      <th>2</th>\n",
       "      <td>0.001660</td>\n",
       "      <td>7</td>\n",
       "    </tr>\n",
       "    <tr>\n",
       "      <th>3</th>\n",
       "      <td>0.002180</td>\n",
       "      <td>22</td>\n",
       "    </tr>\n",
       "    <tr>\n",
       "      <th>4</th>\n",
       "      <td>0.004455</td>\n",
       "      <td>83</td>\n",
       "    </tr>\n",
       "    <tr>\n",
       "      <th>5</th>\n",
       "      <td>0.014559</td>\n",
       "      <td>322</td>\n",
       "    </tr>\n",
       "  </tbody>\n",
       "</table>\n",
       "</div>"
      ],
      "text/plain": [
       "           sec  state_num\n",
       "cost                     \n",
       "1     0.001327          2\n",
       "2     0.001660          7\n",
       "3     0.002180         22\n",
       "4     0.004455         83\n",
       "5     0.014559        322"
      ]
     },
     "execution_count": 22,
     "metadata": {},
     "output_type": "execute_result"
    }
   ],
   "source": [
    "df_np = pd.read_csv('stats_no_pruning.csv')\n",
    "df_np = df_np.set_index('cost')\n",
    "\n",
    "df_np.head()"
   ]
  },
  {
   "cell_type": "code",
   "execution_count": 29,
   "metadata": {},
   "outputs": [
    {
     "data": {
      "text/html": [
       "<div>\n",
       "<style scoped>\n",
       "    .dataframe tbody tr th:only-of-type {\n",
       "        vertical-align: middle;\n",
       "    }\n",
       "\n",
       "    .dataframe tbody tr th {\n",
       "        vertical-align: top;\n",
       "    }\n",
       "\n",
       "    .dataframe thead th {\n",
       "        text-align: right;\n",
       "    }\n",
       "</style>\n",
       "<table border=\"1\" class=\"dataframe\">\n",
       "  <thead>\n",
       "    <tr style=\"text-align: right;\">\n",
       "      <th></th>\n",
       "      <th>sec_prune</th>\n",
       "      <th>state_num_prune</th>\n",
       "      <th>sec</th>\n",
       "      <th>state_num</th>\n",
       "    </tr>\n",
       "    <tr>\n",
       "      <th>cost</th>\n",
       "      <th></th>\n",
       "      <th></th>\n",
       "      <th></th>\n",
       "      <th></th>\n",
       "    </tr>\n",
       "  </thead>\n",
       "  <tbody>\n",
       "    <tr>\n",
       "      <th>1</th>\n",
       "      <td>0.001427</td>\n",
       "      <td>2</td>\n",
       "      <td>0.001327</td>\n",
       "      <td>2.0</td>\n",
       "    </tr>\n",
       "    <tr>\n",
       "      <th>2</th>\n",
       "      <td>0.004187</td>\n",
       "      <td>7</td>\n",
       "      <td>0.001660</td>\n",
       "      <td>7.0</td>\n",
       "    </tr>\n",
       "    <tr>\n",
       "      <th>3</th>\n",
       "      <td>0.019743</td>\n",
       "      <td>22</td>\n",
       "      <td>0.002180</td>\n",
       "      <td>22.0</td>\n",
       "    </tr>\n",
       "    <tr>\n",
       "      <th>4</th>\n",
       "      <td>0.093702</td>\n",
       "      <td>71</td>\n",
       "      <td>0.004455</td>\n",
       "      <td>83.0</td>\n",
       "    </tr>\n",
       "    <tr>\n",
       "      <th>5</th>\n",
       "      <td>0.511800</td>\n",
       "      <td>244</td>\n",
       "      <td>0.014559</td>\n",
       "      <td>322.0</td>\n",
       "    </tr>\n",
       "  </tbody>\n",
       "</table>\n",
       "</div>"
      ],
      "text/plain": [
       "      sec_prune  state_num_prune       sec  state_num\n",
       "cost                                                 \n",
       "1      0.001427                2  0.001327        2.0\n",
       "2      0.004187                7  0.001660        7.0\n",
       "3      0.019743               22  0.002180       22.0\n",
       "4      0.093702               71  0.004455       83.0\n",
       "5      0.511800              244  0.014559      322.0"
      ]
     },
     "execution_count": 29,
     "metadata": {},
     "output_type": "execute_result"
    }
   ],
   "source": [
    "df_case = df_p.merge(df_np, on='cost', how='outer')\n",
    "df_case.head()"
   ]
  },
  {
   "cell_type": "code",
   "execution_count": 32,
   "metadata": {},
   "outputs": [
    {
     "data": {
      "text/plain": [
       "<AxesSubplot:xlabel='cost'>"
      ]
     },
     "execution_count": 32,
     "metadata": {},
     "output_type": "execute_result"
    },
    {
     "data": {
      "image/png": "[encoded data removed]",
      "text/plain": [
       "<Figure size 432x288 with 1 Axes>"
      ]
     },
     "metadata": {
      "needs_background": "light"
     },
     "output_type": "display_data"
    }
   ],
   "source": [
    "df_case[['sec', 'sec_prune']].plot.line()"
   ]
  },
  {
   "cell_type": "markdown",
   "metadata": {},
   "source": [
    "### state per second"
   ]
  },
  {
   "cell_type": "code",
   "execution_count": 34,
   "metadata": {},
   "outputs": [],
   "source": [
    "def state_per_second(csv_path:str):\n",
    "    df = pd.read_csv(csv_path)\n",
    "    df['state_per_second'] = df['state_num']/df['sec']\n",
    "    df = df.set_index('cost')\n",
    "    df['state_per_second'].plot.line()"
   ]
  },
  {
   "cell_type": "code",
   "execution_count": 35,
   "metadata": {},
   "outputs": [
    {
     "data": {
      "image/png": "[encoded data removed]",
      "text/plain": [
       "<Figure size 432x288 with 1 Axes>"
      ]
     },
     "metadata": {
      "needs_background": "light"
     },
     "output_type": "display_data"
    }
   ],
   "source": [
    "# original (pop and stay)\n",
    "state_per_second('stats.csv')"
   ]
  },
  {
   "cell_type": "code",
   "execution_count": 38,
   "metadata": {},
   "outputs": [
    {
     "data": {
      "image/png": "[encoded data removed]",
      "text/plain": [
       "<Figure size 432x288 with 1 Axes>"
      ]
     },
     "metadata": {
      "needs_background": "light"
     },
     "output_type": "display_data"
    }
   ],
   "source": [
    "# pop state and remove\n",
    "state_per_second('stats_remove.csv')"
   ]
  },
  {
   "cell_type": "code",
   "execution_count": 36,
   "metadata": {},
   "outputs": [
    {
     "data": {
      "image/png": "[encoded data removed]",
      "text/plain": [
       "<Figure size 432x288 with 1 Axes>"
      ]
     },
     "metadata": {
      "needs_background": "light"
     },
     "output_type": "display_data"
    }
   ],
   "source": [
    "# is_dead + is_redundant\n",
    "state_per_second('stats_pruning.csv')"
   ]
  },
  {
   "cell_type": "code",
   "execution_count": 37,
   "metadata": {},
   "outputs": [
    {
     "data": {
      "image/png": "[encoded data removed]",
      "text/plain": [
       "<Figure size 432x288 with 1 Axes>"
      ]
     },
     "metadata": {
      "needs_background": "light"
     },
     "output_type": "display_data"
    }
   ],
   "source": [
    "state_per_second('stats_no_pruning.csv')"
   ]
  },
  {
   "cell_type": "code",
   "execution_count": 39,
   "metadata": {},
   "outputs": [
    {
     "data": {
      "image/png": "[encoded data removed]",
      "text/plain": [
       "<Figure size 432x288 with 1 Axes>"
      ]
     },
     "metadata": {
      "needs_background": "light"
     },
     "output_type": "display_data"
    }
   ],
   "source": [
    "state_per_second('stats_server.csv')"
   ]
  },
  {
   "cell_type": "code",
   "execution_count": 40,
   "metadata": {},
   "outputs": [
    {
     "data": {
      "image/png": "[encoded data removed]",
      "text/plain": [
       "<Figure size 432x288 with 1 Axes>"
      ]
     },
     "metadata": {
      "needs_background": "light"
     },
     "output_type": "display_data"
    }
   ],
   "source": [
    "state_per_second('stats_remove_server.csv')"
   ]
  },
  {
   "cell_type": "code",
   "execution_count": 41,
   "metadata": {},
   "outputs": [
    {
     "data": {
      "text/plain": [
       "26684.855143444613"
      ]
     },
     "execution_count": 41,
     "metadata": {},
     "output_type": "execute_result"
    }
   ],
   "source": [
    "151195055/5665.95"
   ]
  },
  {
   "cell_type": "code",
   "execution_count": null,
   "metadata": {},
   "outputs": [],
   "source": []
  }
 ],
 "metadata": {
  "kernelspec": {
   "display_name": "tf",
   "language": "python",
   "name": "python3"
  },
  "language_info": {
   "codemirror_mode": {
    "name": "ipython",
    "version": 3
   },
   "file_extension": ".py",
   "mimetype": "text/x-python",
   "name": "python",
   "nbconvert_exporter": "python",
   "pygments_lexer": "ipython3",
   "version": "3.8.13"
  },
  "orig_nbformat": 4
 },
 "nbformat": 4,
 "nbformat_minor": 2
}
