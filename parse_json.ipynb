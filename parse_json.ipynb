{
 "cells": [
  {
   "cell_type": "code",
   "execution_count": 11,
   "metadata": {},
   "outputs": [],
   "source": [
    "import json\n",
    "import matplotlib.pyplot as plt"
   ]
  },
  {
   "cell_type": "code",
   "execution_count": 12,
   "metadata": {},
   "outputs": [],
   "source": [
    "# open file and read data\n",
    "f = open(\"flamegraph.json\")\n",
    "data = json.load(f)[0]\n",
    "synth = data['spans'][0]"
   ]
  },
  {
   "cell_type": "code",
   "execution_count": 13,
   "metadata": {},
   "outputs": [],
   "source": [
    "# create dict to store time stats\n",
    "funcs = ['update_parentheses', 'is_inside_or',\n",
    "         'match_all', 'match_none', 'extend', 'is_duplicate', 'insert_table', 'push', 'find_occurrences', 'init_state']\n",
    "times_called = {k: 0 for k in funcs}\n",
    "stats = {k: 0 for k in funcs}\n",
    "stats['synth'] = synth['delta']"
   ]
  },
  {
   "cell_type": "code",
   "execution_count": 14,
   "metadata": {},
   "outputs": [
    {
     "name": "stdout",
     "output_type": "stream",
     "text": [
      "{'update_parentheses': 14252853, 'is_inside_or': 17565009, 'match_all': 217798756, 'match_none': 15119751, 'extend': 192483182, 'is_duplicate': 24016151, 'insert_table': 40735914, 'push': 10858652, 'find_occurrences': 0, 'init_state': 18832416, 'synth': 444007167}\n"
     ]
    }
   ],
   "source": [
    "# a summation of time of all functions called\n",
    "def recursive_add_time(function):\n",
    "    # dict_keys(['name', 'start_ns', 'end_ns', 'delta', 'depth', 'children', 'notes'])\n",
    "    if function['children']:\n",
    "        for subfunctions in function['children']:\n",
    "            func_name = subfunctions['name']\n",
    "            func_time = subfunctions['delta']\n",
    "            stats[func_name] += func_time\n",
    "            times_called[func_name] += 1 \n",
    "            recursive_add_time(subfunctions)\n",
    "\n",
    "\n",
    "recursive_add_time(synth)\n",
    "print(stats)"
   ]
  },
  {
   "cell_type": "code",
   "execution_count": 15,
   "metadata": {},
   "outputs": [
    {
     "data": {
      "image/png": "[encoded data removed]",
      "text/plain": [
       "<Figure size 432x288 with 1 Axes>"
      ]
     },
     "metadata": {
      "needs_background": "light"
     },
     "output_type": "display_data"
    }
   ],
   "source": [
    "# draw plot\n",
    "fig, ax = plt.subplots()\n",
    "ax.bar(stats.keys(), stats.values())\n",
    "ax.set_ylabel('time (ns)')\n",
    "ax.set_title('time cost')\n",
    "\n",
    "plt.show()"
   ]
  },
  {
   "cell_type": "code",
   "execution_count": 17,
   "metadata": {},
   "outputs": [
    {
     "data": {
      "text/plain": [
       "{'update_parentheses': 0.03,\n",
       " 'is_inside_or': 0.04,\n",
       " 'match_all': 0.49,\n",
       " 'match_none': 0.03,\n",
       " 'extend': 0.43,\n",
       " 'is_duplicate': 0.05,\n",
       " 'insert_table': 0.09,\n",
       " 'push': 0.02,\n",
       " 'find_occurrences': 0.0,\n",
       " 'init_state': 0.04,\n",
       " 'synth': 1.0}"
      ]
     },
     "execution_count": 17,
     "metadata": {},
     "output_type": "execute_result"
    }
   ],
   "source": [
    "ratio_of_each = {k:round(v/stats['synth'], 2) for (k,v) in stats.items()}\n",
    "\"\"\"\n",
    "extend + matchall + matchnone = 0.97 synth\n",
    "\"\"\"\n",
    "ratio_of_each\n",
    "\"\"\"\n",
    "{'update_parentheses': 0.08,\n",
    " 'is_inside_or': 0.1,\n",
    " 'match_all': 0.04,\n",
    " 'match_none': 0.0,\n",
    " 'extend': 0.91,\n",
    " 'is_duplicate': 0.18,\n",
    " 'insert_table': 0.11,\n",
    " 'push': 0.03,\n",
    " 'find_occurrences': 0.02,\n",
    " 'init_state': 0.05,\n",
    " 'synth': 1.0}\n",
    "\"\"\"\n",
    "ratio_of_each\n"
   ]
  },
  {
   "cell_type": "code",
   "execution_count": 18,
   "metadata": {},
   "outputs": [
    {
     "data": {
      "text/plain": [
       "{'update_parentheses': 57810,\n",
       " 'is_inside_or': 57810,\n",
       " 'match_all': 1128,\n",
       " 'match_none': 147,\n",
       " 'extend': 11562,\n",
       " 'is_duplicate': 57810,\n",
       " 'insert_table': 53522,\n",
       " 'push': 53522,\n",
       " 'find_occurrences': 0,\n",
       " 'init_state': 53522}"
      ]
     },
     "execution_count": 18,
     "metadata": {},
     "output_type": "execute_result"
    }
   ],
   "source": [
    "\"\"\"\n",
    "{'update_parentheses': 2231460,\n",
    " 'is_inside_or': 2231460,\n",
    " 'match_all': 1128,\n",
    " 'match_none': 147,\n",
    " 'extend': 116782,\n",
    " 'is_duplicate': 2231460,\n",
    " 'insert_table': 884406,\n",
    " 'push': 884406,\n",
    " 'find_occurrences': 116782,\n",
    " 'init_state': 884406}\n",
    "\"\"\"\n",
    "times_called"
   ]
  },
  {
   "cell_type": "code",
   "execution_count": 20,
   "metadata": {},
   "outputs": [
    {
     "data": {
      "text/plain": [
       "{'update_parentheses': 246.5464971458225,\n",
       " 'is_inside_or': 303.84032174364296,\n",
       " 'match_all': 193084.0035460993,\n",
       " 'match_none': 102855.44897959183,\n",
       " 'extend': 16647.914028714757,\n",
       " 'is_duplicate': 415.43246843106726,\n",
       " 'insert_table': 761.1059751130376,\n",
       " 'push': 202.88202981951346,\n",
       " 'init_state': 351.86308433915025}"
      ]
     },
     "execution_count": 20,
     "metadata": {},
     "output_type": "execute_result"
    }
   ],
   "source": [
    "\"\"\"\n",
    "{'update_parentheses': 237.05256155162988,\n",
    " 'is_inside_or': 296.4919505615158,\n",
    " 'match_all': 206824.1329787234,\n",
    " 'match_none': 105825.6530612245,\n",
    " 'extend': 49671.88202805227,\n",
    " 'is_duplicate': 505.50786480600146,\n",
    " 'insert_table': 771.1694097507253,\n",
    " 'push': 200.43621255396278,\n",
    " 'find_occurrences': 846.6527547053485,\n",
    " 'init_state': 335.48012677435474}\n",
    "\"\"\"\n",
    "del times_called['find_occurrences']\n",
    "avg_execution_time_ns = {k: stats[k]/v for k, v in times_called.items()}\n",
    "avg_execution_time_ns\n"
   ]
  },
  {
   "cell_type": "code",
   "execution_count": 21,
   "metadata": {},
   "outputs": [
    {
     "data": {
      "text/plain": [
       "{'update_parentheses': 14252853,\n",
       " 'is_inside_or': 17565009,\n",
       " 'match_all': 217798756,\n",
       " 'match_none': 15119751,\n",
       " 'extend': 192483182,\n",
       " 'is_duplicate': 24016151,\n",
       " 'insert_table': 40735914,\n",
       " 'push': 10858652,\n",
       " 'find_occurrences': 0,\n",
       " 'init_state': 18832416,\n",
       " 'synth': 444007167}"
      ]
     },
     "execution_count": 21,
     "metadata": {},
     "output_type": "execute_result"
    }
   ],
   "source": [
    "stats"
   ]
  },
  {
   "cell_type": "code",
   "execution_count": 7,
   "metadata": {},
   "outputs": [
    {
     "name": "stdout",
     "output_type": "stream",
     "text": [
      "0.5989879398197877\n"
     ]
    }
   ],
   "source": [
    "print((stats['is_inside_or']+stats['update_parentheses']+stats['is_duplicate']+stats['insert_table']+stats['push']+stats['init_state'])/stats['extend'])\n",
    "# print(stats['extend'])"
   ]
  },
  {
   "cell_type": "code",
   "execution_count": null,
   "metadata": {},
   "outputs": [],
   "source": [
    "print(\"find_parentheses/is_inside_or = \", round(stats['find_parentheses']/stats['is_inside_or'], 2))\n",
    "print(\"is_inside_or/extend = \", round(stats['is_inside_or']/stats['extend'], 2))\n"
   ]
  },
  {
   "cell_type": "code",
   "execution_count": 38,
   "metadata": {},
   "outputs": [
    {
     "data": {
      "text/plain": [
       "1016804"
      ]
     },
     "execution_count": 38,
     "metadata": {},
     "output_type": "execute_result"
    }
   ],
   "source": [
    "stats['find_occurrences']"
   ]
  },
  {
   "cell_type": "code",
   "execution_count": null,
   "metadata": {},
   "outputs": [],
   "source": []
  }
 ],
 "metadata": {
  "kernelspec": {
   "display_name": "tf",
   "language": "python",
   "name": "python3"
  },
  "language_info": {
   "codemirror_mode": {
    "name": "ipython",
    "version": 3
   },
   "file_extension": ".py",
   "mimetype": "text/x-python",
   "name": "python",
   "nbconvert_exporter": "python",
   "pygments_lexer": "ipython3",
   "version": "3.8.13"
  },
  "orig_nbformat": 4
 },
 "nbformat": 4,
 "nbformat_minor": 2
}
